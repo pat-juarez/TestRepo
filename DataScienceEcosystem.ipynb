{
 "cells": [
  {
   "cell_type": "markdown",
   "id": "6796efb5-8766-42b2-8877-a2a13bfc0be0",
   "metadata": {},
   "source": [
    "# Data Science Ecosystem"
   ]
  },
  {
   "cell_type": "markdown",
   "id": "05b71aa1-fe21-4104-8da9-77a3e3bff689",
   "metadata": {},
   "source": [
    "## Omar Patricio Juárez Álvarez"
   ]
  },
  {
   "cell_type": "markdown",
   "id": "5e5ceb54-c179-4539-a78e-410a015126cd",
   "metadata": {},
   "source": [
    "In this notebook, Data Science tools and Ecosystem are summarized."
   ]
  },
  {
   "cell_type": "markdown",
   "id": "019c9f86-e03c-402a-a4de-1c8a0f3d2aa8",
   "metadata": {},
   "source": [
    "**Objectives:**\n",
    "- List of popular languages for Data Science\n",
    "- List of popular libraries for Data Science\n",
    "- List of popular tools for Data Science\n",
    "- Arithmetic expressions in Python"
   ]
  },
  {
   "cell_type": "markdown",
   "id": "290b06cc-b8fc-4ade-bd7d-5858960d7456",
   "metadata": {},
   "source": [
    "Some of the popular languages that Data Scientists use are: \n",
    "\n",
    "1. Python\n",
    "2. R\n",
    "3. MySQL\n",
    "4. Java\n",
    "5. JavaScript\n",
    "6. Julia"
   ]
  },
  {
   "cell_type": "markdown",
   "id": "1cae2cea-2954-474b-bb0a-be1228a9b096",
   "metadata": {},
   "source": [
    "Some of the commonly used libraries used by Data Scientists include:\n",
    "\n",
    "1. NumPy\n",
    "2. Pandas\n",
    "3. Matplotlib\n",
    "4. PyTorch\n",
    "5. ggplot2"
   ]
  },
  {
   "cell_type": "markdown",
   "id": "c8986ea4-0574-45a6-b1e1-5256482ae847",
   "metadata": {},
   "source": [
    "| Data Science Tools |\n",
    "|---|\n",
    "|Jupyter|\n",
    "|RStudio|\n",
    "|VS Code|"
   ]
  },
  {
   "cell_type": "markdown",
   "id": "591e71f7-8d25-414b-b344-f49b600fd9b3",
   "metadata": {},
   "source": [
    "### Below are a few examples of evaluating arithmetic expressions in Python"
   ]
  },
  {
   "cell_type": "code",
   "execution_count": 1,
   "id": "22e11ec3-d190-4fc0-8227-4696f87b4473",
   "metadata": {},
   "outputs": [
    {
     "data": {
      "text/plain": [
       "17"
      ]
     },
     "execution_count": 1,
     "metadata": {},
     "output_type": "execute_result"
    }
   ],
   "source": [
    "# This is a simple arithmetic expression to multiply then add integers\n",
    "\n",
    "(3*4)+5"
   ]
  },
  {
   "cell_type": "code",
   "execution_count": 2,
   "id": "2e7dbbe4-d491-41c6-b5b0-287da8ba8561",
   "metadata": {},
   "outputs": [
    {
     "data": {
      "text/plain": [
       "3.3333333333333335"
      ]
     },
     "execution_count": 2,
     "metadata": {},
     "output_type": "execute_result"
    }
   ],
   "source": [
    "# This will convert 200 minutes to hours by dividing by 60\n",
    "\n",
    "200/60"
   ]
  }
 ],
 "metadata": {
  "kernelspec": {
   "display_name": "Python 3 (ipykernel)",
   "language": "python",
   "name": "python3"
  },
  "language_info": {
   "codemirror_mode": {
    "name": "ipython",
    "version": 3
   },
   "file_extension": ".py",
   "mimetype": "text/x-python",
   "name": "python",
   "nbconvert_exporter": "python",
   "pygments_lexer": "ipython3",
   "version": "3.12.4"
  }
 },
 "nbformat": 4,
 "nbformat_minor": 5
}
